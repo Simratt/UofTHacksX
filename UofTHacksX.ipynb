{
  "nbformat": 4,
  "nbformat_minor": 0,
  "metadata": {
    "colab": {
      "provenance": [],
      "include_colab_link": true
    },
    "kernelspec": {
      "name": "python3",
      "display_name": "Python 3"
    },
    "language_info": {
      "name": "python"
    }
  },
  "cells": [
    {
      "cell_type": "markdown",
      "metadata": {
        "id": "view-in-github",
        "colab_type": "text"
      },
      "source": [
        "<a href=\"https://colab.research.google.com/github/Simratt/UofTHacksX/blob/no-react/UofTHacksX.ipynb\" target=\"_parent\"><img src=\"https://colab.research.google.com/assets/colab-badge.svg\" alt=\"Open In Colab\"/></a>"
      ]
    },
    {
      "cell_type": "code",
      "execution_count": 115,
      "metadata": {
        "id": "cDCn6shXR4j3",
        "colab": {
          "base_uri": "https://localhost:8080/"
        },
        "outputId": "10380aee-d6d2-4b80-e60e-49497c82eef3"
      },
      "outputs": [
        {
          "output_type": "stream",
          "name": "stdout",
          "text": [
            "Looking in indexes: https://pypi.org/simple, https://us-python.pkg.dev/colab-wheels/public/simple/\n",
            "Requirement already satisfied: cohere in /usr/local/lib/python3.8/dist-packages (3.1.9)\n",
            "Requirement already satisfied: requests in /usr/local/lib/python3.8/dist-packages (from cohere) (2.25.1)\n",
            "Requirement already satisfied: urllib3~=1.26 in /usr/local/lib/python3.8/dist-packages (from cohere) (1.26.14)\n",
            "Requirement already satisfied: chardet<5,>=3.0.2 in /usr/local/lib/python3.8/dist-packages (from requests->cohere) (4.0.0)\n",
            "Requirement already satisfied: idna<3,>=2.5 in /usr/local/lib/python3.8/dist-packages (from requests->cohere) (2.10)\n",
            "Requirement already satisfied: certifi>=2017.4.17 in /usr/local/lib/python3.8/dist-packages (from requests->cohere) (2022.12.7)\n"
          ]
        }
      ],
      "source": [
        "pip install cohere"
      ]
    },
    {
      "cell_type": "code",
      "source": [
        "import cohere\n",
        "import math\n",
        "from cohere.classify import Example\n",
        "co = cohere.Client(\"14QaH6aTky1XZnisHupqzmD5ZBZADido2T4OSLMN\")"
      ],
      "metadata": {
        "id": "R8hEORloR9Pt"
      },
      "execution_count": 70,
      "outputs": []
    },
    {
      "cell_type": "code",
      "source": [
        "pickup_eg = [\n",
        "    Example(\"Was your mother a beaver? ‘Cause damn!\",\"Failure\"),\n",
        "    Example(\"Your breasts remind me of Mount Rushmore — my face should be among them.\",\"Failure\"),\n",
        "    Example(\"It’s handy that I have my library card because I’m totally checking you out\",\"Failure\"),\n",
        "    Example(\"Did you just fart? Because you blow me away\",\"Failure\"),\n",
        "    Example(\"Do you work at Subway? ‘Cause you just gave me a foot-long\",\"Failure\"),\n",
        "    Example(\"I hear you’re looking for a stud. Well, I’ve got the STD and all I need is you\",\"Failure\"),\n",
        "    Example(\"Are those space pants? Because your ass is outta control\",\"Failure\"),\n",
        "    Example(\"Do you have a Band-Aid? ‘Cause I scraped my knee falling for you\",\"Failure\"),\n",
        "    Example(\"Can you touch my hand? I want to tell my friends I’ve been touched by an angel.\",\"Failure\"),\n",
        "    Example(\"If you were a Transformer, you’d be Optimus Fine.\",\"Failure\"),\n",
        "    Example(\"Did you just fart? Because you blow me away\",\"Failure\"),\n",
        "    Example(\"Damn girl are you a bird feeder, because I wanna spread some seeds\",\"Failure\"),\n",
        "    Example(\"If you're a vegetable, you'd be a cute-cumber\",\"Failure\"),\n",
        "    Example(\"Hey wanan touch my shirt? It's made of boyfriend material\",\"Failure\"),\n",
        "    Example(\"Girl are you from Tennese? Because you're the only ten I see\",\"Failure\"),\n",
        "    Example(\"You have a great smile.\",\"Success\"),\n",
        "    Example(\"I like your eyes.\",\"Success\"),\n",
        "    Example(\"I love the way you laugh.\",\"Success\"),\n",
        "    Example(\"I enjoy your company.\",\"Success\"),\n",
        "    Example(\"You're really pretty.\",\"Success\"),\n",
        "    Example(\"You have great taste.\",\"Success\"),\n",
        "    Example(\"You're adorable.\",\"Success\"),\n",
        "    Example(\"Your really cute, could i get your number?\",\"Success\"),\n",
        "    Example(\"You look really nice.\",\"Success\"),\n",
        "    Example(\"your voice is so mezmerizing. \",\"Success\"),\n",
        "    Example(\"your smile is so cute\",\"Success\"),\n",
        "    Example(\"I like your hair today\",\"Success\"),\n",
        "    Example(\"Hey (with rizz)\",\"Success\"),\n",
        "    Example(\"I cant wait to see you again\",\"Success\"),\n",
        "    Example(\"When are you free? I can pick you up\",\"Success\"),\n",
        "    Example(\"<3\",\"Success\"),\n",
        "  ]\n"
      ],
      "metadata": {
        "id": "neTQeDrv-vS8"
      },
      "execution_count": 82,
      "outputs": []
    },
    {
      "cell_type": "code",
      "source": [
        "inputs= [\"If you were dessert, I would have diabetes\"]"
      ],
      "metadata": {
        "id": "8Ib7kgwI0RQN"
      },
      "execution_count": 98,
      "outputs": []
    },
    {
      "cell_type": "code",
      "source": [
        "response = co.classify(  \n",
        "    model='large',  \n",
        "    inputs=inputs,  \n",
        "    examples=pickup_eg\n",
        "  )\n",
        "\n",
        "res = f\"Acoording to our analysis, your line: {inputs[0]} is {response.classifications[0].confidence*100}% likely to result in {response.classifications[0].prediction}\"\n",
        "print(res)"
      ],
      "metadata": {
        "colab": {
          "base_uri": "https://localhost:8080/"
        },
        "id": "G5riADqgfklI",
        "outputId": "ac0084a4-d79a-4a38-f291-4f655652e71d"
      },
      "execution_count": 99,
      "outputs": [
        {
          "output_type": "stream",
          "name": "stdout",
          "text": [
            "Acoording to our analysis, your line: If you were dessert, I would have diabetes is 99.03911% likely to result in Failure\n"
          ]
        }
      ]
    },
    {
      "cell_type": "code",
      "source": [
        "co = cohere.Client('14QaH6aTky1XZnisHupqzmD5ZBZADido2T4OSLMN')\n",
        "response = co.generate(\n",
        "  model='command-xlarge-nightly',\n",
        "  prompt=\"This is Suave Bot, the best wingman that NLP can provide. Here are some examples:\\n\\nCommand: Compliment\\nResult: I like the way your eyes shine\\n--\\nCommand: Compliment a girl and ask for her number\\nResult: Hey, I think you are really cute. Can I get your number?\\n--\\nCommand: Comedy\\nResult: My name is John, but you can call me tonight\\n--\\nCommand: Flirt with a girl\\nResult:\\n*make eye contact* Hey, I'm Eduardo. I noticed you from across the room\\n--\\nCommand: Ask a girl out on a date, casually\\nResult:\\nHey, I'm Jagmeet. I was wondering if you'd like to go to the movies with me.\\n--\\nCommand: Introduce yourself and then compliment a girl\\nResult:\\nHi, I'm John. You're really cute.\\n--\\nCommand: Give me a corny Joke\\nResult:\\nWhy couldn't the bicycle stand up by itself? Because it was...two tired!\\n--\\nCommand: Offer to pay for the date, romantically\\nResult:\\nI'll pay for the date, if you pay me back with your phone number.\\n--\\nCommand: Ask a girl out on a date, Suggestively\\nResult:\\nIf you were a vegetable, you'd be a 'cute-cumber'. Let's go out on a date and see if we can find some other vegetables to play with.\\n--\\nCommand: Win over a girl's heart with a haiku,\\nResult:\\nYou are the lovely rose,\\nAnd I am the thorn that will make you blush.\\nLet's see if we can find a way to remove all of these thorns, and make our love grow.\\n—\\nCommand: filrt with a girl at a bar\\nResult:\\nLet's face it, we're both here to find a date. So let's start by introducing ourselves to each other.I'm John, and you're…?\\n--\\nCommand:Flirt\\nResult:\\nWas your mother a beaver? ‘Cause damn!\\nCommand:Flirt\\nResult:\\nIt’s handy that I have my library card because I’m totally checking you out\\nCommand:Flirt\\nResult:\\nI’m no photographer, but I can picture us together.\\n--\\nCommand:Flirt\\nResult:\\nYou smell like trash….. Can I take you out?\\n--\\nCommand:Flirt\\nResult:\\nSince there is only one of me, does that makes me a limited edition?\\n--\\nCommand:Flirt\\nResult:\\nIf I had a star for every time you brightened my day, I’d have a galaxy in my hand.\\n--\\nCommand:Flirt\\nResult:\\nI’m no photographer, but I can picture us together.\\n--\\nCommand:Flirt\\nResult:\\nDarling, you are the most beautiful woman in this party! Did you invite these guests on purpose?\\n--\\nCommand:Flirt\\nResult:\\nMy name is John but you can call me tonight.\\n--\\nCommand:Flirt\\nResult:\\nI’ll be Burger King and you be McDonald’s. I’ll have it my way, and you’ll be lovin’ it.\\n--\\nCommand:Flirt\\nResult:\\nBabe, you're cuter than a puppy at an animal shelter, Cuz I want to take you home!\\n--\\nCommand:Flirt\\nResult:\\nYou smell like trash….. Can I take you out?\\n--\\nCommand:Flirt\\nResult:\\nIf my heart were to fly, your soul would be my airport.\\n--\\nCommand:Flirt\\nResult:\\nIf I freeze, it’s not a computer virus. I’m just stunned by your beauty.\\n--\\nCommand:Flirt\\nResult:\\nBaby, if you were a fruit you’d be a fineapple.\\n--\\nCommand:Flirt\\nResult:\\nMe without you is like a nerd without braces.\\n--\\nCommand:Flirt\\nResult:\\nI seem to have lost my phone number. Can I have yours?I didn't know angels could fly so low.\\n--\\nCommand:Flirt\\nResult:\\nYou must be peanut butter because you're making my legs feel like jelly\\n--\\nCommand:Flirt\\nResult:\\nI don't have a girlfriend, I just know a girl who would get really mad if she heard me say that.\\n--\\nCommand:Flirt\\nResult:\\nI may not be the best-looking guy in here, but I'm the only one talking to you.\\n--\\nCommand:Flirt\\nResult:\\nYou must be a full moon, coz every time you are around me, I turn into a beast.\\n--\\nCommand:Flirt\\nResult:\\nI used to think love was abstract until you implemented it in MyHeart.\\n--\\nCommand:Flirt\\nResult:\\nIf I followed you home, would you keep me?\\n--\\nCommand:Flirt\\nResult:\\nIf you were a browser, you'd be called FireFoxy.\\n--\\nCommand:Flirt\\nResult:\\nYou must be from Prague because I can't help but Czech you out.\\n--\\nCommand:Flirt\\nResult:\\nI thought you'd be flattered that my dog found your leg so attractive.\\n--\\nCommand:Flirt\\nResult:\\nI thought happiness started with an H. Why does mine start with U?\\n--\\nCommand:Flirt\\nResult:\\nI want to be your handbag so I never leave your side.\\n--\\nCommand:Flirt\\nResult:\\nA girl in a restaurant asked me Are you single?. I happily replied Yes. She took away the extra chair in front of me.\\n--\\nCommand:Flirt\\nResult:\\nAside from being sexy, what do you do for a living?\\n--\\nCommand:Flirt\\nResult:\\nHey, my name’s Microsoft. Can I crash at your place tonight?\\n--\\nCommand:Flirt\\nResult:\\nDo you like raisins? How do you feel about a date?\\n--\\nCommand:Flirt\\nResult:\\nIf I could rearrange the alphabet, I’d put ‘U’ and ‘I’ together.\\n--\\nCommand:Flirt\\nResult:\\nAre you a parking ticket? Because you’ve got FINE written all over you.\\n--\\nCommand:Flirt\",\n",
        "  max_tokens=150,\n",
        "  temperature=0.8,\n",
        "  k=0,\n",
        "  p=1,\n",
        "  frequency_penalty=0,\n",
        "  presence_penalty=0,\n",
        "  stop_sequences=[\"--\"],\n",
        "  return_likelihoods='NONE')\n",
        "print('Prediction: {}'.format(response.generations[0].text))"
      ],
      "metadata": {
        "colab": {
          "base_uri": "https://localhost:8080/"
        },
        "id": "Fj4jGfAGYRje",
        "outputId": "458894d3-4006-4d30-f3ff-9710fb90a2a0"
      },
      "execution_count": 117,
      "outputs": [
        {
          "output_type": "stream",
          "name": "stdout",
          "text": [
            "Prediction: \n",
            "Result:\n",
            "Do you want to come home with me or do you want to stay here all night?\n",
            "--\n"
          ]
        }
      ]
    }
  ]
}